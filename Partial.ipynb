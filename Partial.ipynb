{
 "cells": [
  {
   "cell_type": "code",
   "execution_count": 2,
   "metadata": {},
   "outputs": [],
   "source": [
    "import os\n",
    "import time\n",
    "import numpy as np\n",
    "from net import *\n",
    "# from loss import *\n",
    "import torch\n",
    "from torch.utils.data import Dataset\n",
    "from matplotlib import pyplot as plt\n",
    "\n",
    "os.environ['CUDA_VISIBLE_DEVICES']='0'"
   ]
  },
  {
   "cell_type": "code",
   "execution_count": 3,
   "metadata": {},
   "outputs": [
    {
     "name": "stderr",
     "output_type": "stream",
     "text": [
      "/home/pengchengtao/pct/lib/python3.5/importlib/_bootstrap.py:222: RuntimeWarning: numpy.dtype size changed, may indicate binary incompatibility. Expected 96, got 88\n",
      "  return f(*args, **kwds)\n",
      "/home/pengchengtao/pct/lib/python3.5/importlib/_bootstrap.py:222: RuntimeWarning: numpy.dtype size changed, may indicate binary incompatibility. Expected 96, got 88\n",
      "  return f(*args, **kwds)\n",
      "/usr/local/lib/python3.5/dist-packages/sklearn/cross_validation.py:41: DeprecationWarning: This module was deprecated in version 0.18 in favor of the model_selection module into which all the refactored classes and functions are moved. Also note that the interface of the new CV iterators are different from that of this module. This module will be removed in 0.20.\n",
      "  \"This module will be removed in 0.20.\", DeprecationWarning)\n"
     ]
    }
   ],
   "source": [
    "import glob\n",
    "# X = glob.glob('/data4/PCT/Journal_MAR/pj_metals/*.mat')\n",
    "X = glob.glob('/data4/PCT/Journal_MAR/pj_metals/*.mat')\n",
    "from sklearn.cross_validation import train_test_split\n",
    "X_train, X_val, _, _ = train_test_split(X, X, test_size=0.3, random_state=42)"
   ]
  },
  {
   "cell_type": "code",
   "execution_count": 5,
   "metadata": {},
   "outputs": [
    {
     "name": "stderr",
     "output_type": "stream",
     "text": [
      "/home/pengchengtao/pct/lib/python3.5/importlib/_bootstrap.py:222: RuntimeWarning: numpy.dtype size changed, may indicate binary incompatibility. Expected 96, got 88\n",
      "  return f(*args, **kwds)\n"
     ]
    }
   ],
   "source": [
    "from skimage import transform\n",
    "import cv2\n",
    "class SinogramDataset(Dataset):\n",
    "    def __init__(self, file_path_list, phase='train'):\n",
    "        self.path_list = file_path_list\n",
    "        self.phase = phase\n",
    "    \n",
    "    def __getitem__(self, index):\n",
    "        \n",
    "        Sinogram_target1,Sinogram_target2, Image_target,mask,mask1= self.load_data(self.path_list[index])\n",
    "        \n",
    "        return Sinogram_target1,Sinogram_target2, Image_target,mask,mask1\n",
    "    \n",
    "    def load_data(self, file_path):\n",
    "        metal_sinogram = sio.loadmat(file_path)['pj_metal']\n",
    "#         metal_sinogram = sio.loadmat(file_path, verify_compressed_data_integrity=False)['Crop_metal']\n",
    "        group_num=file_path.split('/')[-1].split('_')[0]\n",
    "        slice_num=file_path.split('/')[-1].split('_')[1]\n",
    "        Sinogram_target1 = sio.loadmat(os.path.join('/data4/PCT/Journal_MAR/pj_GroundTruth/','{}_{}_GroundTruth.mat'.format(group_num,slice_num)))['pj_GroundTruth']\n",
    "        Image_target = np.load(os.path.join('/data4/PCT/Journal_MAR/Image_GroundTruth/','{}_{}_GroundTruth.npy'.format(group_num,slice_num)))\n",
    "#         Sinogram_LI = sio.loadmat(os.path.join('/data4/PCT/Journal_MAR/LI_Sinograms/','_'.join(file_path.split('/')[-1].split('_')[0:3])+'_LISinograms.mat'))['Sinogram_LI']\n",
    "#         Image_LI = sio.loadmat(os.path.join('/data4/PCT/Journal_MAR/LI_Images/','_'.join(file_path.split('/')[-1].split('_')[0:3])+'_LIImages.mat'))['Image_LI']\n",
    "        mask = metal_sinogram == 0\n",
    "        mask1 = mask\n",
    "        Sinogram_target2 = Sinogram_target1\n",
    "        Sinogram_target1,mask= self.process_data(Sinogram_target1,mask)\n",
    "#         Image_target = Image_target.astype(np.float32)[np.newaxis,:,:]\n",
    "#         Sinogram_target = Sinogram_target[np.newaxis,:,:]\n",
    "#         Sinogram_LI = Sinogram_LI.astype(np.float32)[np.newaxis,:,:]\n",
    "#         Image_LI = Image_LI.astype(np.float32)[np.newaxis,:,:]\n",
    "#         mask = mask.astype(np.float32)[np.newaxis,:,:]\n",
    "#         prior_image = prior_image[np.newaxis,:,:]\n",
    "#         Image_LI = Image_LI.astype(np.float32)[np.newaxis,:,:]\n",
    "        mask1 = mask1.astype(np.float32)[np.newaxis,:,:]\n",
    "        Image_target = Image_target.astype(np.float32)[np.newaxis,:,:]\n",
    "        Sinogram_target2 = Sinogram_target2.astype(np.float32)[np.newaxis,:,:]\n",
    "        return Sinogram_target1,Sinogram_target2, Image_target,mask,mask1\n",
    "        \n",
    "    def process_data(self, *args):\n",
    "        return [item[np.newaxis, :, 176:-176].astype(np.float32) for item in args]\n",
    "#         return [item[np.newaxis, :, :].astype(np.float32) for item in args]\n",
    "    \n",
    "    def __len__(self):\n",
    "        return len(self.path_list)"
   ]
  },
  {
   "cell_type": "code",
   "execution_count": 6,
   "metadata": {},
   "outputs": [],
   "source": [
    "batch_size = 4\n",
    "num_workers = 4\n",
    "\n",
    "trainset = SinogramDataset(file_path_list=X_train, phase='train')\n",
    "train_loader = torch.utils.data.DataLoader(trainset, batch_size=batch_size, shuffle=True, num_workers=num_workers)\n",
    "\n",
    "valset = SinogramDataset(file_path_list=X_val, phase='train')\n",
    "val_loader = torch.utils.data.DataLoader(valset, batch_size=batch_size, shuffle=True, num_workers=num_workers)"
   ]
  },
  {
   "cell_type": "code",
   "execution_count": 7,
   "metadata": {},
   "outputs": [],
   "source": [
    "torch.backends.cudnn.benchmark = True\n",
    "device = torch.device('cpu' if not torch.cuda.is_available() else 'cuda')"
   ]
  },
  {
   "cell_type": "code",
   "execution_count": 8,
   "metadata": {},
   "outputs": [],
   "source": [
    "from fan_fbp import *\n",
    "from fan_projection.modules.fan_projection import FanProj\n",
    "\n",
    "class CombineModel(nn.Module):\n",
    "    def __init__(self):\n",
    "        super().__init__()\n",
    "        self.inpainting_model =  PConvUNet1()()\n",
    "        self.ImageDomainNetwork = Unet()\n",
    "        self.bottleneck = nn.Sequential(nn.Conv2d(1, 64, kernel_size=3, stride=1, padding=1),nn.ReLU(True),\n",
    "                                             nn.Conv2d(64, 64, kernel_size=3, stride=1, padding=1),nn.ReLU(True),\n",
    "                                             nn.Conv2d(64, 1, kernel_size=1))\n",
    "    \n",
    "    def forward(self, Sinogram_LI, Sinogram_target1,Sinogram_target2,mask,mask1):\n",
    "        \n",
    "        out_I1 = self.inpainting_model(Sinogram_LI)\n",
    "        out_I2 = Sinogram_target1 * mask + out_I1 * (1 - mask)\n",
    "        out_intact = Sinogram_target2\n",
    "        out_intact[:,:,:,176:-176] = out_I2\n",
    "        Processed_Image = self.ImageDomainNetwork(FanFBP(512, 512)(out_intact))\n",
    "        output_I3 = FanProj(720, 1024)(Processed_Image)\n",
    "        output_I3 = output_I3[:,:,:,176:-176]\n",
    "        output_I4 = self.bottleneck(Sinogram_target1 * mask + output_I3 * (1 - mask))\n",
    "        \n",
    "        return out_I2, Processed_Image, output_I4"
   ]
  },
  {
   "cell_type": "code",
   "execution_count": 1,
   "metadata": {},
   "outputs": [
    {
     "ename": "NameError",
     "evalue": "name 'CombineModel' is not defined",
     "output_type": "error",
     "traceback": [
      "\u001b[0;31m---------------------------------------------------------------------------\u001b[0m",
      "\u001b[0;31mNameError\u001b[0m                                 Traceback (most recent call last)",
      "\u001b[0;32m<ipython-input-1-833eb55811bd>\u001b[0m in \u001b[0;36m<module>\u001b[0;34m()\u001b[0m\n\u001b[1;32m      1\u001b[0m \u001b[0mdevice_ids\u001b[0m \u001b[0;34m=\u001b[0m \u001b[0;34m[\u001b[0m\u001b[0;36m0\u001b[0m\u001b[0;34m,\u001b[0m\u001b[0;36m1\u001b[0m\u001b[0;34m,\u001b[0m\u001b[0;36m2\u001b[0m\u001b[0;34m,\u001b[0m\u001b[0;36m3\u001b[0m\u001b[0;34m]\u001b[0m\u001b[0;34m\u001b[0m\u001b[0m\n\u001b[1;32m      2\u001b[0m \u001b[0;34m\u001b[0m\u001b[0m\n\u001b[0;32m----> 3\u001b[0;31m \u001b[0mmodel\u001b[0m \u001b[0;34m=\u001b[0m \u001b[0mCombineModel\u001b[0m\u001b[0;34m(\u001b[0m\u001b[0;34m)\u001b[0m\u001b[0;34m.\u001b[0m\u001b[0mto\u001b[0m\u001b[0;34m(\u001b[0m\u001b[0mdevice\u001b[0m\u001b[0;34m)\u001b[0m\u001b[0;34m\u001b[0m\u001b[0m\n\u001b[0m\u001b[1;32m      4\u001b[0m \u001b[0;34m\u001b[0m\u001b[0m\n\u001b[1;32m      5\u001b[0m \u001b[0;31m# Dis= DiscriminativeNet()\u001b[0m\u001b[0;34m\u001b[0m\u001b[0;34m\u001b[0m\u001b[0m\n",
      "\u001b[0;31mNameError\u001b[0m: name 'CombineModel' is not defined"
     ]
    }
   ],
   "source": [
    "device_ids = [0,1,2,3]\n",
    "\n",
    "model = CombineModel().to(device)\n",
    "\n",
    "# Dis= DiscriminativeNet()\n",
    "# checkpoint1 = torch.load('/data4/PCT/Artifact_Reducaion/CBCT dataset/models_CGAN_with_prior_image/CGAN_final_dis/checkpoint_497.pth.tar', map_location=\"cuda:0\")\n",
    "# Dis.load_state_dict(checkpoint1['state_dict'])\n",
    "# Dis.cuda(device_ids[0])\n",
    "\n",
    "# # Gen = FusionGenPeceptual().cuda(device_ids[0])\n",
    "# # # Gen = GenerativeNet().cuda(device_ids[0])\n",
    "# # Dis = DiscriminativeNet().cuda(device_ids[0])\n",
    "model = nn.DataParallel(model, device_ids=device_ids)\n",
    "# Dis = nn.DataParallel(Dis, device_ids=device_ids)\n",
    "print(model)"
   ]
  },
  {
   "cell_type": "code",
   "execution_count": 9,
   "metadata": {},
   "outputs": [
    {
     "name": "stderr",
     "output_type": "stream",
     "text": [
      "/home/pengchengtao/pct/lib/python3.5/site-packages/torch/nn/functional.py:52: UserWarning: size_average and reduce args will be deprecated, please use reduction='none' instead.\n",
      "  warnings.warn(warning.format(ret))\n"
     ]
    }
   ],
   "source": [
    "from torch.optim.lr_scheduler import MultiStepLR\n",
    "# if False:\n",
    "#     lr = 5e-5\n",
    "#     model.freeze_enc_bn = True\n",
    "# optimizer_Gen = torch.optim.Adam(filter(lambda p: p.requires_grad, Gen.parameters()), lr=5e-4)\n",
    "# optimizer_Gen = nn.DataParallel(optimizer_Gen, device_ids=device_ids)\n",
    "# scheduler_Gen = MultiStepLR(optimizer_Gen.module, milestones=[150,300], gamma=0.3)\n",
    "\n",
    "# criterion_Dis = nn.MSELoss().to(device)\n",
    "# optimizer_Dis = torch.optim.Adam(Dis.parameters(),lr=1e-4)\n",
    "# optimizer_Dis = nn.DataParallel(optimizer_Dis, device_ids=device_ids)\n",
    "# scheduler_Dis = MultiStepLR(optimizer_Dis.module, milestones=[150,300], gamma=0.3)\n",
    "criterion_1 = nn.L1Loss().to(device)\n",
    "criterion_2 = InpaintingLoss().to(device)#Inpainting areas\n",
    "optimizer = torch.optim.Adam(filter(lambda p: p.requires_grad, model.parameters()), lr=1e-3)\n",
    "optimizer = nn.DataParallel(optimizer, device_ids=device_ids)\n",
    "# scheduler = MultiStepLR(optimizer.module, milestones=[50,120,240,360,540], gamma=0.3)\n",
    "# scheduler = MultiStepLR(optimizer.module, milestones=[50,150,220,350], gamma=0.5)"
   ]
  },
  {
   "cell_type": "code",
   "execution_count": 10,
   "metadata": {},
   "outputs": [],
   "source": [
    "def save_checkpoint(state, checkpoint='checkpoint', snapshot=1):\n",
    "    if not os.path.exists(checkpoint): os.makedirs(checkpoint)\n",
    "    if snapshot and state['epoch'] % snapshot == 0:\n",
    "        torch.save(state, os.path.join(checkpoint, 'checkpoint_{}.pth.tar'.format(state['epoch'])))\n",
    "        "
   ]
  },
  {
   "cell_type": "code",
   "execution_count": 2,
   "metadata": {},
   "outputs": [
    {
     "name": "stderr",
     "output_type": "stream",
     "text": [
      "/home/pengchengtao/pct/lib/python3.5/importlib/_bootstrap.py:222: RuntimeWarning: numpy.dtype size changed, may indicate binary incompatibility. Expected 96, got 88\n",
      "  return f(*args, **kwds)\n",
      "/home/pengchengtao/pct/lib/python3.5/importlib/_bootstrap.py:222: RuntimeWarning: numpy.dtype size changed, may indicate binary incompatibility. Expected 96, got 88\n",
      "  return f(*args, **kwds)\n"
     ]
    },
    {
     "name": "stdout",
     "output_type": "stream",
     "text": [
      "epoch:1\n"
     ]
    },
    {
     "ename": "NameError",
     "evalue": "name 'scheduler' is not defined",
     "output_type": "error",
     "traceback": [
      "\u001b[0;31m---------------------------------------------------------------------------\u001b[0m",
      "\u001b[0;31mNameError\u001b[0m                                 Traceback (most recent call last)",
      "\u001b[0;32m<ipython-input-2-ce8cc350bbd0>\u001b[0m in \u001b[0;36m<module>\u001b[0;34m()\u001b[0m\n\u001b[1;32m      8\u001b[0m     \u001b[0mnum\u001b[0m\u001b[0;34m=\u001b[0m\u001b[0;36m0\u001b[0m\u001b[0;34m\u001b[0m\u001b[0m\n\u001b[1;32m      9\u001b[0m     \u001b[0mprint\u001b[0m\u001b[0;34m(\u001b[0m\u001b[0;34m'epoch:'\u001b[0m \u001b[0;34m+\u001b[0m \u001b[0mstr\u001b[0m\u001b[0;34m(\u001b[0m\u001b[0mepoch\u001b[0m\u001b[0;34m)\u001b[0m\u001b[0;34m)\u001b[0m\u001b[0;34m\u001b[0m\u001b[0m\n\u001b[0;32m---> 10\u001b[0;31m     \u001b[0mscheduler\u001b[0m\u001b[0;34m.\u001b[0m\u001b[0mstep\u001b[0m\u001b[0;34m(\u001b[0m\u001b[0;34m)\u001b[0m\u001b[0;34m\u001b[0m\u001b[0m\n\u001b[0m\u001b[1;32m     11\u001b[0m     \u001b[0;32mfor\u001b[0m \u001b[0mi\u001b[0m\u001b[0;34m,\u001b[0m\u001b[0mdata\u001b[0m \u001b[0;32min\u001b[0m \u001b[0menumerate\u001b[0m\u001b[0;34m(\u001b[0m\u001b[0mtrain_loader\u001b[0m\u001b[0;34m)\u001b[0m\u001b[0;34m:\u001b[0m\u001b[0;34m\u001b[0m\u001b[0m\n\u001b[1;32m     12\u001b[0m         \u001b[0mnum\u001b[0m\u001b[0;34m=\u001b[0m\u001b[0mnum\u001b[0m\u001b[0;34m+\u001b[0m\u001b[0;36m1\u001b[0m\u001b[0;34m\u001b[0m\u001b[0m\n",
      "\u001b[0;31mNameError\u001b[0m: name 'scheduler' is not defined"
     ]
    }
   ],
   "source": [
    "import scipy.io as sio\n",
    "step=0\n",
    "epoches=500\n",
    "\n",
    "for epoch in range(1,epoches):\n",
    "    loss_train_=0.0\n",
    "    loss_val_=0.0\n",
    "    num=0\n",
    "    print('epoch:' + str(epoch))\n",
    "#     scheduler.step()\n",
    "    for i,data in enumerate(train_loader):\n",
    "        num=num+1\n",
    "        Sinogram_target1,Sinogram_target2, Image_target,mask,mask1= [item for item in data]\n",
    "        Sinogram_target1 = Sinogram_target1.to(device)\n",
    "        Sinogram_target2 = Sinogram_target2.to(device)\n",
    "        mask = mask.to(device)\n",
    "        mask1 = mask1.to(device)\n",
    "        Image_target = Image_target.to(device)\n",
    "    #         new_x, out_2, residual_x, out4= model(Sinogram_target, mask)\n",
    "        out_1,out_2,out_3= model(Sinogram_target1*mask,Sinogram_target1,Sinogram_target2,mask,mask1)\n",
    "        loss = 0.3*criterion_1(out_1,Sinogram_target1)+0.3*criterion_1(out_2,Image_target)+criterion_1(out_3,Sinogram_target1)\n",
    "        optimizer.module.zero_grad()\n",
    "        loss.backward()\n",
    "        optimizer.module.step()\n",
    "        \n",
    "        with torch.no_grad():\n",
    "            model.eval()\n",
    "            for i,data in enumerate(val_loader):\n",
    "                Sinogram_target1,Sinogram_target2, Image_target,mask,mask1= [item for item in data]\n",
    "                Sinogram_target1 = Sinogram_target1.to(device)\n",
    "                Sinogram_target2 = Sinogram_target2.to(device)\n",
    "                mask = mask.to(device)\n",
    "                mask1 = mask1.to(device)\n",
    "                Image_target = Image_target.to(device)\n",
    "                out_1,out_2,out_3= model(Sinogram_target1*mask,Sinogram_target1,Sinogram_target2,mask,mask1)\n",
    "                loss_val=0.3*criterion_1(out_1,Sinogram_target1)+0.3*criterion_1(out_2,Image_target)+criterion_1(out_3,Sinogram_target1)\n",
    "        \n",
    "        loss_train_ = loss_train_+loss\n",
    "#         loss_val_=loss_val_+loss_val\n",
    "        \n",
    "    print('Train_loss:  {}'.format(loss_train_/float(num)))\n",
    "    print('Val_loss:  {}'.format(loss_val/float(num)))\n",
    "    save_checkpoint({\n",
    "            'epoch': epoch,\n",
    "            'state_dict': model.module.state_dict(),\n",
    "            }, checkpoint='/data4/PCT/Journal_MAR/Partial_Network_models/', snapshot=1)\n",
    "\n",
    "\n",
    "    "
   ]
  },
  {
   "cell_type": "code",
   "execution_count": 9,
   "metadata": {},
   "outputs": [
    {
     "name": "stdout",
     "output_type": "stream",
     "text": [
      "[[0. 0. 0. ... 0. 0. 0.]\n",
      " [0. 0. 0. ... 0. 0. 0.]\n",
      " [0. 0. 0. ... 0. 0. 0.]\n",
      " ...\n",
      " [0. 0. 0. ... 0. 0. 0.]\n",
      " [0. 0. 0. ... 0. 0. 0.]\n",
      " [0. 0. 0. ... 0. 0. 0.]]\n",
      "['/data4/PCT/Journal_MAR/pj_metals/Group1_90_1metal_metal.mat']\n"
     ]
    },
    {
     "data": {
      "image/png": "[encoded data removed]",
      "text/plain": [
       "<Figure size 432x288 with 1 Axes>"
      ]
     },
     "metadata": {},
     "output_type": "display_data"
    }
   ],
   "source": [
    "import scipy.io as sio\n",
    "import matplotlib.pyplot as plt\n",
    "file_path='/data4/PCT/Journal_MAR/pj_metals/Group1_90_1metal_metal.mat'\n",
    "metal_sinogram=sio.loadmat(file_path)['pj_metal']\n",
    "print(metal_sinogram)\n",
    "plt.imshow(metal_sinogram,cmap='gray')\n",
    "X_test=['/data4/PCT/Journal_MAR/pj_metals/Group1_90_1metal_metal.mat']\n",
    "print(X_test)\n",
    "valset = SinogramDataset(file_path_list=X_test, phase='val')\n",
    "val_loader = torch.utils.data.DataLoader(valset, batch_size=1, shuffle=False, num_workers=num_workers)"
   ]
  },
  {
   "cell_type": "code",
   "execution_count": 14,
   "metadata": {},
   "outputs": [
    {
     "name": "stderr",
     "output_type": "stream",
     "text": [
      "/home/pengchengtao/pct/lib/python3.5/site-packages/torch/nn/modules/upsampling.py:122: UserWarning: nn.Upsampling is deprecated. Use nn.functional.interpolate instead.\n",
      "  warnings.warn(\"nn.Upsampling is deprecated. Use nn.functional.interpolate instead.\")\n"
     ]
    }
   ],
   "source": [
    "model = CombineModel().to(device)\n",
    "model.eval()\n",
    "checkpoint = torch.load('/data4/PCT/Journal_MAR/Partial_Network_models/checkpoint_{}.pth.tar'.format(300), map_location=\"cuda:0\")#1173 65\n",
    "model.load_state_dict(checkpoint['state_dict'])\n",
    "for i, (data) in enumerate(val_loader, 0):\n",
    "    Sinogram_target1,Sinogram_target2, Image_target,mask,mask1= [item for item in data]\n",
    "    Sinogram_target1 = Sinogram_target1.to(device)\n",
    "    Sinogram_target2 = Sinogram_target2.to(device)\n",
    "    mask = mask.to(device)\n",
    "    mask1 = mask1.to(device)\n",
    "    Image_target = Image_target.to(device)\n",
    "    out_1,out_2,out_3= model(Sinogram_target1*mask,Sinogram_target1,Sinogram_target2,mask,mask1)\n",
    "target1 = Sinogram_target2.cpu().detach().numpy()[0,0,...]\n",
    "out_1= out_1.cpu().detach().numpy()[0,0,...]\n",
    "out_2= out_2.cpu().detach().numpy()[0,0,...]\n",
    "out_3 = out_3.cpu().detach().numpy()[0,0,...]\n",
    "result = target1\n",
    "result[:,176:-176] = out_1\n",
    "result=torch.from_numpy(result).float().to(device)\n",
    "result=result[np.newaxis,np.newaxis,:,:]\n",
    "from fan_fbp import *\n",
    "AS_AIN=FanFBP(512, 512)(result)\n",
    "AS_AIN=AS_AIN[0,0,:,:]\n",
    "AS_AIN=AS_AIN.cpu().numpy()\n",
    "# sio.savemat('/data4/PCT/Journal_MAR/Result_SF/AS_AIN.mat', {'AS_AIN':AS_AIN})\n",
    "# sio.savemat('/data4/PCT/Journal_MAR/Result_SF/Partial_vertebra3_56_1metal.mat', {'Image_Partial':out_2})\n",
    "sio.savemat('/data4/PCT/Journal_MAR/Result_SF/AS_P_tt_.mat', {'AS_P_':out_2})"
   ]
  },
  {
   "cell_type": "code",
   "execution_count": 10,
   "metadata": {},
   "outputs": [],
   "source": [
    "import numpy as np\n",
    "import scipy.io as sio\n",
    "Image_GT_vertebra2_29 = np.load('/data4/PCT/Journal_MAR/Image_GroundTruth/vertebra2_29_GroundTruth.npy')\n",
    "sio.savemat('/data4/PCT/Journal_MAR/Result_SF/Image_GT_vertebra2_29.mat', {'GT_':Image_GT_vertebra2_29})"
   ]
  },
  {
   "cell_type": "code",
   "execution_count": null,
   "metadata": {},
   "outputs": [],
   "source": []
  }
 ],
 "metadata": {
  "kernelspec": {
   "display_name": "Python 3",
   "language": "python",
   "name": "python3"
  },
  "language_info": {
   "codemirror_mode": {
    "name": "ipython",
    "version": 3
   },
   "file_extension": ".py",
   "mimetype": "text/x-python",
   "name": "python",
   "nbconvert_exporter": "python",
   "pygments_lexer": "ipython3",
   "version": "3.5.2"
  }
 },
 "nbformat": 4,
 "nbformat_minor": 2
}
